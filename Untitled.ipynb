{
 "cells": [
  {
   "cell_type": "code",
   "execution_count": 2,
   "id": "363c187e-e597-4a0e-944b-8ae930fe6959",
   "metadata": {},
   "outputs": [],
   "source": [
    "import csv\n",
    "from pathlib import Path\n"
   ]
  },
  {
   "cell_type": "code",
   "execution_count": 4,
   "id": "70210dbf-d427-4dc6-b0b6-560274ee4cc9",
   "metadata": {},
   "outputs": [],
   "source": [
    "file_to_load = Path(\"Resources/budget_data.csv\")\n",
    "file_to_output = Path(\"analysis/budget_analysis.txt\")\n"
   ]
  },
  {
   "cell_type": "code",
   "execution_count": 5,
   "id": "c4227914-1ab5-4023-83a8-e192a863ad2e",
   "metadata": {},
   "outputs": [],
   "source": [
    "total_months = 0\n",
    "month_of_change = []\n",
    "net_change_list = []\n",
    "greatest_increase = [\"\", 0]\n",
    "greatest_decrease = [\"\", 9999999999999999999]\n",
    "total_net = 0\n"
   ]
  },
  {
   "cell_type": "code",
   "execution_count": 8,
   "id": "3cc7dbc7-324d-43d6-8b43-4faaa73aeb77",
   "metadata": {},
   "outputs": [],
   "source": [
    "with open(file_to_load) as file_to_load:\n",
    "    reader = csv.reader(file_to_load)\n"
   ]
  },
  {
   "cell_type": "code",
   "execution_count": 10,
   "id": "9699ba22-6af9-4b25-8b07-fdd6d1f5cc21",
   "metadata": {},
   "outputs": [
    {
     "ename": "ValueError",
     "evalue": "I/O operation on closed file.",
     "output_type": "error",
     "traceback": [
      "\u001b[1;31m---------------------------------------------------------------------------\u001b[0m",
      "\u001b[1;31mValueError\u001b[0m                                Traceback (most recent call last)",
      "\u001b[1;32m<ipython-input-10-294a1eb5bd90>\u001b[0m in \u001b[0;36m<module>\u001b[1;34m\u001b[0m\n\u001b[1;32m----> 1\u001b[1;33m \u001b[0mheader\u001b[0m \u001b[1;33m=\u001b[0m \u001b[0mnext\u001b[0m\u001b[1;33m(\u001b[0m\u001b[0mreader\u001b[0m\u001b[1;33m)\u001b[0m\u001b[1;33m\u001b[0m\u001b[1;33m\u001b[0m\u001b[0m\n\u001b[0m",
      "\u001b[1;31mValueError\u001b[0m: I/O operation on closed file."
     ]
    }
   ],
   "source": [
    "header = next(reader)"
   ]
  },
  {
   "cell_type": "code",
   "execution_count": null,
   "id": "caac7f75-03d6-4f0b-8239-dc83ee0f4e67",
   "metadata": {},
   "outputs": [],
   "source": [
    "total_months = total_months + 1\n",
    "total_net = total_net + int(row[1])"
   ]
  },
  {
   "cell_type": "code",
   "execution_count": null,
   "id": "29e8c22d-25d6-4d8b-a830-927349f45d5c",
   "metadata": {},
   "outputs": [],
   "source": [
    "net_change = int(row[1]) = prev_net\n",
    "prev_net = int(row[1])\n",
    "net_change_list = net_change_list + [net_change]\n",
    "month_of_change = month_of_change + [row[0]]"
   ]
  },
  {
   "cell_type": "code",
   "execution_count": null,
   "id": "95f9311c-a361-43f9-9519-051cf0af2e7b",
   "metadata": {},
   "outputs": [],
   "source": [
    "if net_change > greatest_increase[1]:\n",
    "    greatest_increase[0] = row[0]\n",
    "    greatest_increase[1] = net_change\n",
    "    "
   ]
  },
  {
   "cell_type": "code",
   "execution_count": null,
   "id": "6afe0050-0756-47ca-948c-64cbf4524381",
   "metadata": {},
   "outputs": [],
   "source": [
    "if net_change < greatest_decrease[1]:\n",
    "    greatest_decrease[0] = row[0]\n",
    "    greatest_drecrease[1] = net change"
   ]
  },
  {
   "cell_type": "code",
   "execution_count": null,
   "id": "e6cfd859-446b-4f54-8599-1163282bd3ec",
   "metadata": {},
   "outputs": [],
   "source": [
    "net_monthly_avg = round(sum(net_change_list) / len(net_chang_list),2)"
   ]
  },
  {
   "cell_type": "code",
   "execution_count": null,
   "id": "5dd65da8-1640-4ab1-9ce8-d90ed35a0a70",
   "metadata": {},
   "outputs": [],
   "source": [
    "with open(file_to_output, \"w\") as txt_file:\n",
    "    txt_file.write(f\"Financial Analysis\\n\")\n",
    "    txt_file.write(f\"----------------------------\\n\")\n",
    "    txt_file.write(f\"Total Months: {total_months}\\n\")\n",
    "    txt_file.write(f\"Total: ${total_net}\\n\")\n",
    "    txt_file.write(f\"Average  Change: ${net_monthly_avg}\\n\")\n",
    "    txt_file.write(f\"Greatest Increase in Profits: {greatest_increase[0]} (${greatest_increase[1]})\\n\")\n",
    "    txt_file.write(f\"Greatest Decrease in Profits: {greatest_decrease[0]}\n"
   ]
  },
  {
   "cell_type": "code",
   "execution_count": null,
   "id": "3c961a7a-9ea2-4c05-91e6-d93f0957744f",
   "metadata": {},
   "outputs": [],
   "source": []
  }
 ],
 "metadata": {
  "kernelspec": {
   "display_name": "Python 3",
   "language": "python",
   "name": "python3"
  },
  "language_info": {
   "codemirror_mode": {
    "name": "ipython",
    "version": 3
   },
   "file_extension": ".py",
   "mimetype": "text/x-python",
   "name": "python",
   "nbconvert_exporter": "python",
   "pygments_lexer": "ipython3",
   "version": "3.8.8"
  }
 },
 "nbformat": 4,
 "nbformat_minor": 5
}
