{
 "cells": [
  {
   "cell_type": "markdown",
   "metadata": {},
   "source": [
    "# PyBank Homework Solution"
   ]
  },
  {
   "cell_type": "code",
   "execution_count": 6,
   "metadata": {},
   "outputs": [],
   "source": [
    "# Files to load and output (Remember to change these)\n",
    "from pathlib import Path\n",
    "import csv\n",
    "\n",
    "file_to_load = Path(\"Resources/budget_data.csv\")\n",
    "file_to_output = Path(\"analysis/budget_analysis.txt\")"
   ]
  },
  {
   "cell_type": "code",
   "execution_count": 7,
   "metadata": {},
   "outputs": [],
   "source": [
    "# Track various financial parameters\n",
    "total_months = 0\n",
    "month_of_change = []\n",
    "net_change_list = []\n",
    "greatest_increase = [\"\", 0]\n",
    "greatest_decrease = [\"\", 9999999999999999999]\n",
    "total_net = 0"
   ]
  },
  {
   "cell_type": "code",
   "execution_count": 17,
   "metadata": {},
   "outputs": [],
   "source": [
    "# Read the csv and convert it into a list of dictionaries\n",
    "with open(file_to_load) as financial_data:\n",
    "    reader = csv.reader(financial_data)\n",
    "\n",
    "    # Read the header row\n",
    "    header = next(reader)\n",
    "\n",
    "    # Extract first row to avoid appending to net_change_list\n",
    "    first_row = next(reader)\n",
    "    total_months = total_months + 1\n",
    "    total_net = total_net + int(first_row[1])\n",
    "    prev_net = int(first_row[1])\n",
    "\n",
    "    for row in reader:\n",
    "\n",
    "        # Track the total\n",
    "        total_months = total_months + 1\n",
    "        total_net = total_net + int(row[1])\n",
    "\n",
    "        # Track the net change\n",
    "        net_change = int(row[1]) - prev_net\n",
    "        prev_net = int(row[1])\n",
    "        net_change_list = net_change_list + [net_change]\n",
    "        month_of_change = month_of_change + [row[0]]\n",
    "\n",
    "        # Calculate the greatest increase\n",
    "        if net_change > greatest_increase[1]:\n",
    "            greatest_increase[0] = row[0]\n",
    "            greatest_increase[1] = net_change\n",
    "\n",
    "        # Calculate the greatest decrease\n",
    "        if net_change < greatest_decrease[1]:\n",
    "            greatest_decrease[0] = row[0]\n",
    "            greatest_decrease[1] = net_change\n"
   ]
  },
  {
   "cell_type": "code",
   "execution_count": 18,
   "metadata": {},
   "outputs": [],
   "source": [
    "# Calculate the Average Net Change\n",
    "net_monthly_avg = round(sum(net_change_list) / len(net_change_list),2)"
   ]
  },
  {
   "cell_type": "code",
   "execution_count": 19,
   "metadata": {},
   "outputs": [],
   "source": [
    "# Export the results to text file\n",
    "\n",
    "output_file = \"output.txt\"\n",
    "with open(file_to_output, \"w\") as txt_file:\n",
    "    txt_file.write(f\"Financial Analysis\\n\")\n",
    "    txt_file.write(f\"----------------------------\\n\")\n",
    "    txt_file.write(f\"Total Months: {total_months}\\n\")\n",
    "    txt_file.write(f\"Total: ${total_net}\\n\")\n",
    "    txt_file.write(f\"Average  Change: ${net_monthly_avg}\\n\")\n",
    "    txt_file.write(f\"Greatest Increase in Profits: {greatest_increase[0]} (${greatest_increase[1]})\\n\")\n",
    "    txt_file.write(f\"Greatest Decrease in Profits: {greatest_decrease[0]} (${greatest_decrease[1]})\\n\")\n"
   ]
  },
  {
   "cell_type": "code",
   "execution_count": 20,
   "metadata": {},
   "outputs": [
    {
     "name": "stdout",
     "output_type": "stream",
     "text": [
      "PyBank Budget Analysts \n",
      "\n",
      "-------------------------------\n",
      "\n",
      "Total Months: 172\n",
      "\n",
      "Total: $76765156\n",
      "\n",
      "Average Change: $-2315.12\n",
      "\n",
      "Greatest Increase in Profits: {greatest_increase}[0]}  (${greatest_increase[1]})\n",
      "\n",
      "Greatest Decrease in Losses: Sep-2013  ($-2196167)\n",
      "\n"
     ]
    }
   ],
   "source": [
    "#print analysis\n",
    "\n",
    "print(f\"PyBank Budget Analysts \\n\")\n",
    "print(f\"-------------------------------\\n\")\n",
    "print(f\"Total Months: {total_months}\\n\")\n",
    "print(f\"Total: ${total_net}\\n\")\n",
    "print(f\"Average Change: ${net_monthly_avg}\\n\")\n",
    "print(\"Greatest Increase in Profits: {greatest_increase}[0]}  (${greatest_increase[1]})\\n\")\n",
    "print(f\"Greatest Decrease in Losses: {greatest_decrease[0]}  (${greatest_decrease[1]})\\n\")"
   ]
  }
 ],
 "metadata": {
  "kernelspec": {
   "display_name": "Python 3",
   "language": "python",
   "name": "python3"
  },
  "language_info": {
   "codemirror_mode": {
    "name": "ipython",
    "version": 3
   },
   "file_extension": ".py",
   "mimetype": "text/x-python",
   "name": "python",
   "nbconvert_exporter": "python",
   "pygments_lexer": "ipython3",
   "version": "3.7.10"
  }
 },
 "nbformat": 4,
 "nbformat_minor": 4
}
